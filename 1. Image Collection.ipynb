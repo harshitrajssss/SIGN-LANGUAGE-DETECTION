{
 "cells": [
  {
   "cell_type": "markdown",
   "metadata": {},
   "source": [
    "# 1. Import Dependencies"
   ]
  },
  {
   "cell_type": "code",
   "execution_count": 1,
   "metadata": {},
   "outputs": [
    {
     "name": "stdout",
     "output_type": "stream",
     "text": [
      "Requirement already satisfied: opencv-python in c:\\programdata\\anaconda3\\envs\\tf_gpu\\lib\\site-packages (4.7.0.72)\n",
      "Requirement already satisfied: numpy>=1.17.0 in c:\\programdata\\anaconda3\\envs\\tf_gpu\\lib\\site-packages (from opencv-python) (1.19.5)\n"
     ]
    }
   ],
   "source": [
    "!pip install opencv-python"
   ]
  },
  {
   "cell_type": "code",
   "execution_count": 7,
   "metadata": {},
   "outputs": [],
   "source": [
    "# Import opencv\n",
    "import cv2 \n",
    "\n",
    "# Import uuid\n",
    "import uuid\n",
    "\n",
    "# Import Operating System\n",
    "import os\n",
    "\n",
    "# Import time\n",
    "import time"
   ]
  },
  {
   "cell_type": "markdown",
   "metadata": {},
   "source": [
    "# 2. Define Images to Collect"
   ]
  },
  {
   "cell_type": "code",
   "execution_count": 4,
   "metadata": {},
   "outputs": [],
   "source": [
    "labels = ['thumbsup', 'thumbsdown', 'thankyou', 'livelong']\n",
    "number_imgs = 5"
   ]
  },
  {
   "cell_type": "code",
   "execution_count": 5,
   "metadata": {},
   "outputs": [
    {
     "data": {
      "text/plain": [
       "['thumbsup', 'thumbsdown', 'thankyou', 'livelong']"
      ]
     },
     "execution_count": 5,
     "metadata": {},
     "output_type": "execute_result"
    }
   ],
   "source": [
    "labels\n"
   ]
  },
  {
   "cell_type": "code",
   "execution_count": null,
   "metadata": {},
   "outputs": [],
   "source": []
  },
  {
   "cell_type": "code",
   "execution_count": null,
   "metadata": {},
   "outputs": [],
   "source": []
  },
  {
   "cell_type": "markdown",
   "metadata": {},
   "source": [
    "# 3. Setup Folders "
   ]
  },
  {
   "cell_type": "code",
   "execution_count": 7,
   "metadata": {},
   "outputs": [],
   "source": [
    "IMAGES_PATH = os.path.join('Tensorflow', 'workspace', 'images', 'collectedimages')"
   ]
  },
  {
   "cell_type": "code",
   "execution_count": 8,
   "metadata": {},
   "outputs": [],
   "source": [
    "if not os.path.exists(IMAGES_PATH):\n",
    "    if os.name == 'posix':\n",
    "        !mkdir -p {IMAGES_PATH}\n",
    "    if os.name == 'nt':\n",
    "         !mkdir {IMAGES_PATH}\n",
    "for label in labels:\n",
    "    path = os.path.join(IMAGES_PATH, label)\n",
    "    if not os.path.exists(path):\n",
    "        !mkdir {path}"
   ]
  },
  {
   "cell_type": "markdown",
   "metadata": {},
   "source": [
    "# 4. Capture Images"
   ]
  },
  {
   "cell_type": "code",
   "execution_count": null,
   "metadata": {},
   "outputs": [
    {
     "name": "stdout",
     "output_type": "stream",
     "text": [
      "Collecting images for thumbsup\n",
      "Collecting image 0\n",
      "Collecting image 1\n",
      "Collecting image 2\n",
      "Collecting images for thumbsdown\n",
      "Collecting image 0\n"
     ]
    }
   ],
   "source": [
    "for label in labels:\n",
    "    cap = cv2.VideoCapture(0)\n",
    "    print('Collecting images for {}'.format(label))\n",
    "    time.sleep(5)\n",
    "    for imgnum in range(number_imgs):\n",
    "        print('Collecting image {}'.format(imgnum))\n",
    "        ret, frame = cap.read()\n",
    "        imgname = os.path.join(IMAGES_PATH,label,label+'.'+'{}.jpg'.format(str(uuid.uuid1())))\n",
    "        cv2.imwrite(imgname, frame)\n",
    "        cv2.imshow('frame', frame)\n",
    "        time.sleep(2)\n",
    "\n",
    "        if cv2.waitKey(1) & 0xFF == ord('q'):\n",
    "            break\n",
    "cap.release()\n",
    "cv2.destroyAllWindows()"
   ]
  },
  {
   "cell_type": "markdown",
   "metadata": {},
   "source": [
    "# 5. Image Labelling"
   ]
  },
  {
   "cell_type": "code",
   "execution_count": 3,
   "metadata": {},
   "outputs": [
    {
     "name": "stdout",
     "output_type": "stream",
     "text": [
      "Requirement already satisfied: pyqt5 in c:\\programdata\\anaconda3\\envs\\tf_gpu\\lib\\site-packages (5.15.9)\n",
      "Requirement already satisfied: lxml in c:\\programdata\\anaconda3\\envs\\tf_gpu\\lib\\site-packages (4.9.2)\n",
      "Requirement already satisfied: PyQt5-sip<13,>=12.11 in c:\\programdata\\anaconda3\\envs\\tf_gpu\\lib\\site-packages (from pyqt5) (12.12.1)\n",
      "Requirement already satisfied: PyQt5-Qt5>=5.15.2 in c:\\programdata\\anaconda3\\envs\\tf_gpu\\lib\\site-packages (from pyqt5) (5.15.2)\n"
     ]
    }
   ],
   "source": [
    "!pip install --upgrade pyqt5 lxml"
   ]
  },
  {
   "cell_type": "code",
   "execution_count": 5,
   "metadata": {},
   "outputs": [
    {
     "name": "stdout",
     "output_type": "stream",
     "text": [
      "Package                 Version\n",
      "----------------------- --------\n",
      "absl-py                 0.15.0\n",
      "asttokens               2.2.1\n",
      "astunparse              1.6.3\n",
      "backcall                0.2.0\n",
      "cachetools              5.3.0\n",
      "certifi                 2023.5.7\n",
      "charset-normalizer      3.1.0\n",
      "clang                   5.0\n",
      "colorama                0.4.6\n",
      "comm                    0.1.3\n",
      "debugpy                 1.6.7\n",
      "decorator               5.1.1\n",
      "executing               1.2.0\n",
      "flatbuffers             1.12\n",
      "gast                    0.4.0\n",
      "google-auth             2.18.1\n",
      "google-auth-oauthlib    1.0.0\n",
      "google-pasta            0.2.0\n",
      "grpcio                  1.54.2\n",
      "h5py                    3.1.0\n",
      "idna                    3.4\n",
      "importlib-metadata      6.6.0\n",
      "ipykernel               6.23.1\n",
      "ipython                 8.13.2\n",
      "jedi                    0.18.2\n",
      "jupyter_client          8.2.0\n",
      "jupyter_core            5.3.0\n",
      "keras                   2.12.0\n",
      "Keras-Preprocessing     1.1.2\n",
      "lxml                    4.9.2\n",
      "Markdown                3.4.3\n",
      "MarkupSafe              2.1.2\n",
      "matplotlib-inline       0.1.6\n",
      "nest-asyncio            1.5.6\n",
      "numpy                   1.19.5\n",
      "oauthlib                3.2.2\n",
      "opencv-python           4.7.0.72\n",
      "opt-einsum              3.3.0\n",
      "packaging               23.1\n",
      "parso                   0.8.3\n",
      "pickleshare             0.7.5\n",
      "pip                     23.1.2\n",
      "platformdirs            3.5.1\n",
      "prompt-toolkit          3.0.38\n",
      "protobuf                4.23.1\n",
      "psutil                  5.9.5\n",
      "pure-eval               0.2.2\n",
      "pyasn1                  0.5.0\n",
      "pyasn1-modules          0.3.0\n",
      "Pygments                2.15.1\n",
      "PyQt5                   5.15.9\n",
      "PyQt5-Qt5               5.15.2\n",
      "PyQt5-sip               12.12.1\n",
      "python-dateutil         2.8.2\n",
      "pywin32                 306\n",
      "pyzmq                   25.0.2\n",
      "requests                2.30.0\n",
      "requests-oauthlib       1.3.1\n",
      "rsa                     4.9\n",
      "setuptools              66.0.0\n",
      "six                     1.15.0\n",
      "stack-data              0.6.2\n",
      "tensorboard             2.13.0\n",
      "tensorboard-data-server 0.7.0\n",
      "tensorflow-estimator    2.12.0\n",
      "tensorflow-gpu          2.6.0\n",
      "termcolor               1.1.0\n",
      "tornado                 6.3.2\n",
      "traitlets               5.9.0\n",
      "typing-extensions       3.7.4.3\n",
      "urllib3                 1.26.15\n",
      "wcwidth                 0.2.6\n",
      "Werkzeug                2.3.4\n",
      "wheel                   0.38.4\n",
      "wrapt                   1.12.1\n",
      "zipp                    3.15.0\n"
     ]
    }
   ],
   "source": [
    "!pip list"
   ]
  },
  {
   "cell_type": "code",
   "execution_count": 8,
   "metadata": {},
   "outputs": [],
   "source": [
    "LABELIMG_PATH = os.path.join('Tensorflow', 'labelimg')"
   ]
  },
  {
   "cell_type": "code",
   "execution_count": 9,
   "metadata": {},
   "outputs": [
    {
     "name": "stderr",
     "output_type": "stream",
     "text": [
      "Cloning into 'Tensorflow\\labelimg'...\n"
     ]
    }
   ],
   "source": [
    "if not os.path.exists(LABELIMG_PATH):\n",
    "    !mkdir {LABELIMG_PATH}\n",
    "    !git clone https://github.com/tzutalin/labelImg {LABELIMG_PATH}"
   ]
  },
  {
   "cell_type": "code",
   "execution_count": 10,
   "metadata": {},
   "outputs": [],
   "source": [
    "if os.name == 'posix':\n",
    "    !make qt5py3\n",
    "if os.name =='nt':\n",
    "    !cd {LABELIMG_PATH} && pyrcc5 -o libs/resources.py resources.qrc"
   ]
  },
  {
   "cell_type": "code",
   "execution_count": null,
   "metadata": {},
   "outputs": [],
   "source": [
    "!cd {LABELIMG_PATH} && python labelImg.py"
   ]
  },
  {
   "cell_type": "markdown",
   "metadata": {},
   "source": [
    "# 6. Move them into a Training and Testing Partition"
   ]
  },
  {
   "cell_type": "markdown",
   "metadata": {},
   "source": [
    "# OPTIONAL - 7. Compress them for Colab Training"
   ]
  },
  {
   "cell_type": "code",
   "execution_count": 20,
   "metadata": {},
   "outputs": [],
   "source": [
    "TRAIN_PATH = os.path.join('Tensorflow', 'workspace', 'images', 'train')\n",
    "TEST_PATH = os.path.join('Tensorflow', 'workspace', 'images', 'test')\n",
    "ARCHIVE_PATH = os.path.join('Tensorflow', 'workspace', 'images', 'archive.tar.gz')"
   ]
  },
  {
   "cell_type": "code",
   "execution_count": 21,
   "metadata": {},
   "outputs": [],
   "source": [
    "!tar -czf {ARCHIVE_PATH} {TRAIN_PATH} {TEST_PATH}"
   ]
  },
  {
   "cell_type": "code",
   "execution_count": null,
   "metadata": {},
   "outputs": [],
   "source": []
  }
 ],
 "metadata": {
  "kernelspec": {
   "display_name": "tf_gpu",
   "language": "python",
   "name": "tf_gpu"
  },
  "language_info": {
   "codemirror_mode": {
    "name": "ipython",
    "version": 3
   },
   "file_extension": ".py",
   "mimetype": "text/x-python",
   "name": "python",
   "nbconvert_exporter": "python",
   "pygments_lexer": "ipython3",
   "version": "3.9.0"
  }
 },
 "nbformat": 4,
 "nbformat_minor": 2
}
